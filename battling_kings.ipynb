{
 "cells": [
  {
   "cell_type": "code",
   "execution_count": 1,
   "id": "9453a8d9",
   "metadata": {},
   "outputs": [],
   "source": [
    "%matplotlib notebook"
   ]
  },
  {
   "cell_type": "code",
   "execution_count": 2,
   "id": "652df2fc",
   "metadata": {},
   "outputs": [],
   "source": [
    "# Dependencies\n",
    "import matplotlib.pyplot as plt\n",
    "import numpy as np\n",
    "import pandas as pd"
   ]
  },
  {
   "cell_type": "code",
   "execution_count": null,
   "id": "89bb2fc2",
   "metadata": {},
   "outputs": [],
   "source": [
    "# Read CSV\n",
    "file = \"Resources\"\n",
    "\n"
   ]
  },
  {
   "cell_type": "code",
   "execution_count": null,
   "id": "8e6afe3d",
   "metadata": {},
   "outputs": [],
   "source": [
    "df.loc[pd.isnull(df.attacker_king)]"
   ]
  },
  {
   "cell_type": "code",
   "execution_count": null,
   "id": "8b0e2d72",
   "metadata": {},
   "outputs": [],
   "source": [
    "df_sub = df.loc[(pd.notnull(df.attacker_king)) | (pd.notnull(df.defender_king))]\n",
    "df_sub.info()"
   ]
  },
  {
   "cell_type": "code",
   "execution_count": null,
   "id": "396181d5",
   "metadata": {},
   "outputs": [],
   "source": [
    "df_sub = df_sub.loc[:, [\"name\", \"year\", \"attacker_king\", \"defender_king\"]]\n",
    "df_sub.head()"
   ]
  },
  {
   "cell_type": "code",
   "execution_count": null,
   "id": "22b84c54",
   "metadata": {},
   "outputs": [],
   "source": [
    "df_sub.attacker_king.vlaue_counts()"
   ]
  },
  {
   "cell_type": "code",
   "execution_count": null,
   "id": "db4bc329",
   "metadata": {},
   "outputs": [],
   "source": [
    "df_sub.defender_king.value_counts()"
   ]
  },
  {
   "cell_type": "code",
   "execution_count": null,
   "id": "6714fbb1",
   "metadata": {},
   "outputs": [],
   "source": [
    "df_sub.groupby([\"attacker_king\", \"year\"]).size()"
   ]
  },
  {
   "cell_type": "code",
   "execution_count": null,
   "id": "ca09654e",
   "metadata": {},
   "outputs": [],
   "source": [
    "attackers = df_sub.attacker_king.value_counts()\n",
    "defenders = df_sub.defender_king.value_counts()\n",
    "\n",
    "total_battles = pd.concat([attackers, defenders], asix=1)\n",
    "total_battles = total_battles.reset_index()\n",
    "total_battles.columns = [\"King\", \"Num_Attack\", \"Num_Defense\"]\n",
    "\n",
    "total_battles.fillna(0, inplace=True)\n",
    "total_battles[\"Num_Battles\"] = total_battles.Num_Attack + total_battles.Num_Defense\n",
    "\n",
    "total_battles\n"
   ]
  },
  {
   "cell_type": "code",
   "execution_count": null,
   "id": "0a836c7d",
   "metadata": {},
   "outputs": [],
   "source": []
  },
  {
   "cell_type": "code",
   "execution_count": null,
   "id": "535f7b23",
   "metadata": {},
   "outputs": [],
   "source": []
  },
  {
   "cell_type": "code",
   "execution_count": null,
   "id": "1d412564",
   "metadata": {},
   "outputs": [],
   "source": [
    "# MATPLOTLIB ONLY\n",
    "\n",
    "# Step 1: SELECT YOUR DATA, get the x and y\n",
    "x = total_battles.King\n",
    "y = total_battles.Num_Battles\n",
    "\n",
    "# Step 2: Initialize basic plot\n",
    "plt.figure(figsize=(20,10))\n",
    "plt.bar(x, y, color=\"firebrick\", alpha=0.75)\n",
    "\n",
    "# Step 3: CUSTOMIZATION, make graph beautiful\n",
    "plt.xlabel(\"King\", fontsize=16)\n",
    "plt.ylabel(\"Number of Battles\", fontsize=16)\n",
    "plt.title(\"Number of Battles by King in GoT\", fontsize=24, fontweight=\"bold\", fontstyle=\"italic\")\n",
    "\n",
    "plt.xticks(fontsize=16, rotation=45)\n",
    "\n",
    "plt.grid(axis=\"y\", alpha=0.25)\n",
    "\n",
    "plt.ylim(0, 30)\n",
    "\n",
    "# Step 4: SHOW the graph, save the graph, etc\n",
    "plt.tight_layout()\n",
    "plt.savefig(\"booth_got.png\")\n",
    "plt.show()"
   ]
  },
  {
   "cell_type": "code",
   "execution_count": null,
   "id": "59fe059c",
   "metadata": {},
   "outputs": [],
   "source": []
  },
  {
   "cell_type": "code",
   "execution_count": null,
   "id": "8606c76b",
   "metadata": {},
   "outputs": [],
   "source": [
    "# PANDAS\n",
    "plt.figure(figsize=(20,10))\n",
    "total_battles.plot(x=\"King\", y=\"Num_Battles\", kind=\"bar\", title=\"Number of Battles\", xlabel=\"King\", rot=45, ylabel=\"Number of Battles\", color=\"firebrick\")\n",
    "\n",
    "plt.show()"
   ]
  },
  {
   "cell_type": "code",
   "execution_count": null,
   "id": "625344da",
   "metadata": {},
   "outputs": [],
   "source": []
  },
  {
   "cell_type": "code",
   "execution_count": null,
   "id": "9777b24d",
   "metadata": {},
   "outputs": [],
   "source": []
  },
  {
   "cell_type": "code",
   "execution_count": null,
   "id": "411e956e",
   "metadata": {},
   "outputs": [],
   "source": [
    "df3 = total_battles.loc[:, [\"King\", \"Num_Attack\", \"Num_Defense\"]].set_index(\"King\")\n",
    "df3"
   ]
  },
  {
   "cell_type": "code",
   "execution_count": null,
   "id": "33506abe",
   "metadata": {},
   "outputs": [],
   "source": [
    "df3.plot(kind=\"bar\", stacked=True, rot=90, title=\"Battling Kings\", color=[\"firebrick\", \"seagreen\"], ylabel=\"Number of Battles\")\n",
    "plt.show()"
   ]
  },
  {
   "cell_type": "code",
   "execution_count": null,
   "id": "b56b9f69",
   "metadata": {},
   "outputs": [],
   "source": []
  },
  {
   "cell_type": "code",
   "execution_count": null,
   "id": "2d516ec7",
   "metadata": {},
   "outputs": [],
   "source": []
  },
  {
   "cell_type": "code",
   "execution_count": null,
   "id": "aebf5e0f",
   "metadata": {},
   "outputs": [],
   "source": [
    "# Get attacker and defender king data\n",
    "\n"
   ]
  },
  {
   "cell_type": "code",
   "execution_count": null,
   "id": "384c6ab2",
   "metadata": {},
   "outputs": [],
   "source": [
    "# Get total battle data\n",
    "\n"
   ]
  },
  {
   "cell_type": "code",
   "execution_count": null,
   "id": "704a15a8",
   "metadata": {},
   "outputs": [],
   "source": [
    "# Configure plot and ticks\n",
    "\n",
    "\n",
    "# Set textual properties\n",
    "\n",
    "\n",
    "# Show plot\n",
    "\n",
    "\n",
    "# Resize plot to display labels"
   ]
  }
 ],
 "metadata": {
  "kernelspec": {
   "display_name": "PythonData",
   "language": "python",
   "name": "pythondata"
  },
  "language_info": {
   "codemirror_mode": {
    "name": "ipython",
    "version": 3
   },
   "file_extension": ".py",
   "mimetype": "text/x-python",
   "name": "python",
   "nbconvert_exporter": "python",
   "pygments_lexer": "ipython3",
   "version": "3.9.13"
  }
 },
 "nbformat": 4,
 "nbformat_minor": 5
}
