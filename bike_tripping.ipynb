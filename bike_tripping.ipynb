{
 "cells": [
  {
   "cell_type": "code",
   "execution_count": null,
   "id": "a128e2e4",
   "metadata": {},
   "outputs": [],
   "source": []
  },
  {
   "cell_type": "code",
   "execution_count": null,
   "id": "84f1625c",
   "metadata": {},
   "outputs": [],
   "source": []
  },
  {
   "cell_type": "code",
   "execution_count": null,
   "id": "4cbde2fb",
   "metadata": {},
   "outputs": [],
   "source": [
    "df.info()"
   ]
  },
  {
   "cell_type": "code",
   "execution_count": null,
   "id": "8de07f84",
   "metadata": {},
   "outputs": [],
   "source": [
    "pd.to_numeric(birthyear)"
   ]
  },
  {
   "cell_type": "code",
   "execution_count": null,
   "id": "e49ef1ec",
   "metadata": {},
   "outputs": [],
   "source": [
    "df_sub = df.loc[df.birthyear != \"bikeid\"].reset_index(drop=True)\n",
    "df_sub[\"birthyear\"] = pd.to_numeric(df_sub.birthyear)\n",
    "df_sub.info"
   ]
  },
  {
   "cell_type": "code",
   "execution_count": null,
   "id": "c3bcb111",
   "metadata": {},
   "outputs": [],
   "source": [
    "df_sub[\"stoptime\"] = pd.to_datetime(df_sub.stoptime, format=\"%m/%d/%Y %H:%M\")\n",
    "df_sub.info()\n"
   ]
  },
  {
   "cell_type": "code",
   "execution_count": null,
   "id": "51e00dfe",
   "metadata": {},
   "outputs": [],
   "source": [
    "df_sub = df_sub.loc[pd.notnull(df_sub.gender)].reset_index(drop=True)\n",
    "df_sub.info()"
   ]
  },
  {
   "cell_type": "code",
   "execution_count": null,
   "id": "3e603596",
   "metadata": {},
   "outputs": [],
   "source": [
    "df_sub[\"ride_year\"] = df_sub.stoptime.apply(lambda x: x.year)\n",
    "df_sub[\"Age\"] = df_sub.ride_year - df_sub.birthyear\n",
    "df_sub.head()"
   ]
  },
  {
   "cell_type": "code",
   "execution_count": null,
   "id": "81845e3f",
   "metadata": {},
   "outputs": [],
   "source": [
    "df_sub = df_sub.loc[pd.notnull(df_sub.Age)].reset_index(drop=True)\n",
    "df_sub.info()"
   ]
  },
  {
   "cell_type": "code",
   "execution_count": null,
   "id": "6887c524",
   "metadata": {},
   "outputs": [],
   "source": []
  },
  {
   "cell_type": "code",
   "execution_count": null,
   "id": "8c2678df",
   "metadata": {},
   "outputs": [],
   "source": [
    "gender_vals = df_sub.gender.value_counts()\n",
    "\n",
    "gender_vals.plot(kind=\"bar\")\n",
    "plt.show()\n"
   ]
  },
  {
   "cell_type": "code",
   "execution_count": null,
   "id": "3e68d607",
   "metadata": {},
   "outputs": [],
   "source": []
  }
 ],
 "metadata": {
  "kernelspec": {
   "display_name": "Python 3 (ipykernel)",
   "language": "python",
   "name": "python3"
  },
  "language_info": {
   "codemirror_mode": {
    "name": "ipython",
    "version": 3
   },
   "file_extension": ".py",
   "mimetype": "text/x-python",
   "name": "python",
   "nbconvert_exporter": "python",
   "pygments_lexer": "ipython3",
   "version": "3.9.13"
  }
 },
 "nbformat": 4,
 "nbformat_minor": 5
}
